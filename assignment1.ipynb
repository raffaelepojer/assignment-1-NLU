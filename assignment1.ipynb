{
 "cells": [
  {
   "cell_type": "markdown",
   "id": "54814027-a981-4fcc-b795-6fe980270916",
   "metadata": {},
   "source": [
    "## Assignment: Working with Dependency Graphs (Parses)\n",
    "\n",
    "The objective of the assignment is to learn how to work with dependency graphs by defining functions.\n",
    "\n",
    "Read [spaCy documentation on dependency parser](https://spacy.io/api/dependencyparser) to learn provided methods.\n",
    "\n",
    "Define functions to:\n",
    "\n",
    "- extract a path of dependency relations from the ROOT to a token\n",
    "    - input is a sentence, you parse it and get a Doc object of spaCy\n",
    "    - for each token the path will be a list of dependency relations, where first element is ROOT\n",
    "- extract subtree of a dependents given a token\n",
    "    - input is a sentence, you parse it and get a Doc object of spaCy\n",
    "    - for each token in Doc objects you extract a subtree of its dependents as a list (ordered w.r.t. sentence order)\n",
    "- check if a given list of tokens (segment of a sentence) forms a subtree\n",
    "    - you parse a sentence and get a Doc object of spaCy\n",
    "    - providing as an input ordered list of words from a sentence, you output True/False based on the sequence forming a subtree or not\n",
    "- identify head of a span, given its tokens\n",
    "    - input is a sequence of words (not necessarily a sentence)\n",
    "    - output is the head of the span (single word)\n",
    "- extract sentence subject, direct object and indirect object spans\n",
    "    - input is a sentence, you parse it and get a Doc object of spaCy\n",
    "    - output is lists of words that form a span (not a single word) for subject, direct object, and indirect object (if present of course, otherwise empty)\n",
    "        - dict of lists, is better"
   ]
  },
  {
   "cell_type": "code",
   "execution_count": 1,
   "id": "302ca55c-efb5-4cba-a5a1-cd1e3f772abd",
   "metadata": {},
   "outputs": [
    {
     "data": {
      "text/html": [
       "<span class=\"tex2jax_ignore\"><svg xmlns=\"http://www.w3.org/2000/svg\" xmlns:xlink=\"http://www.w3.org/1999/xlink\" xml:lang=\"en\" id=\"d1e8721027a34ef5b8d90df1eb5135dd-0\" class=\"displacy\" width=\"1625\" height=\"399.5\" direction=\"ltr\" style=\"max-width: none; height: 399.5px; color: #000000; background: #ffffff; font-family: Arial; direction: ltr\">\n",
       "<text class=\"displacy-token\" fill=\"currentColor\" text-anchor=\"middle\" y=\"309.5\">\n",
       "    <tspan class=\"displacy-word\" fill=\"currentColor\" x=\"50\">The</tspan>\n",
       "    <tspan class=\"displacy-tag\" dy=\"2em\" fill=\"currentColor\" x=\"50\">DET</tspan>\n",
       "</text>\n",
       "\n",
       "<text class=\"displacy-token\" fill=\"currentColor\" text-anchor=\"middle\" y=\"309.5\">\n",
       "    <tspan class=\"displacy-word\" fill=\"currentColor\" x=\"225\">quick</tspan>\n",
       "    <tspan class=\"displacy-tag\" dy=\"2em\" fill=\"currentColor\" x=\"225\">ADJ</tspan>\n",
       "</text>\n",
       "\n",
       "<text class=\"displacy-token\" fill=\"currentColor\" text-anchor=\"middle\" y=\"309.5\">\n",
       "    <tspan class=\"displacy-word\" fill=\"currentColor\" x=\"400\">brown</tspan>\n",
       "    <tspan class=\"displacy-tag\" dy=\"2em\" fill=\"currentColor\" x=\"400\">ADJ</tspan>\n",
       "</text>\n",
       "\n",
       "<text class=\"displacy-token\" fill=\"currentColor\" text-anchor=\"middle\" y=\"309.5\">\n",
       "    <tspan class=\"displacy-word\" fill=\"currentColor\" x=\"575\">fox</tspan>\n",
       "    <tspan class=\"displacy-tag\" dy=\"2em\" fill=\"currentColor\" x=\"575\">NOUN</tspan>\n",
       "</text>\n",
       "\n",
       "<text class=\"displacy-token\" fill=\"currentColor\" text-anchor=\"middle\" y=\"309.5\">\n",
       "    <tspan class=\"displacy-word\" fill=\"currentColor\" x=\"750\">jumps</tspan>\n",
       "    <tspan class=\"displacy-tag\" dy=\"2em\" fill=\"currentColor\" x=\"750\">VERB</tspan>\n",
       "</text>\n",
       "\n",
       "<text class=\"displacy-token\" fill=\"currentColor\" text-anchor=\"middle\" y=\"309.5\">\n",
       "    <tspan class=\"displacy-word\" fill=\"currentColor\" x=\"925\">over</tspan>\n",
       "    <tspan class=\"displacy-tag\" dy=\"2em\" fill=\"currentColor\" x=\"925\">ADP</tspan>\n",
       "</text>\n",
       "\n",
       "<text class=\"displacy-token\" fill=\"currentColor\" text-anchor=\"middle\" y=\"309.5\">\n",
       "    <tspan class=\"displacy-word\" fill=\"currentColor\" x=\"1100\">the</tspan>\n",
       "    <tspan class=\"displacy-tag\" dy=\"2em\" fill=\"currentColor\" x=\"1100\">DET</tspan>\n",
       "</text>\n",
       "\n",
       "<text class=\"displacy-token\" fill=\"currentColor\" text-anchor=\"middle\" y=\"309.5\">\n",
       "    <tspan class=\"displacy-word\" fill=\"currentColor\" x=\"1275\">lazy</tspan>\n",
       "    <tspan class=\"displacy-tag\" dy=\"2em\" fill=\"currentColor\" x=\"1275\">ADJ</tspan>\n",
       "</text>\n",
       "\n",
       "<text class=\"displacy-token\" fill=\"currentColor\" text-anchor=\"middle\" y=\"309.5\">\n",
       "    <tspan class=\"displacy-word\" fill=\"currentColor\" x=\"1450\">dog.</tspan>\n",
       "    <tspan class=\"displacy-tag\" dy=\"2em\" fill=\"currentColor\" x=\"1450\">NOUN</tspan>\n",
       "</text>\n",
       "\n",
       "<g class=\"displacy-arrow\">\n",
       "    <path class=\"displacy-arc\" id=\"arrow-d1e8721027a34ef5b8d90df1eb5135dd-0-0\" stroke-width=\"2px\" d=\"M70,264.5 C70,2.0 575.0,2.0 575.0,264.5\" fill=\"none\" stroke=\"currentColor\"/>\n",
       "    <text dy=\"1.25em\" style=\"font-size: 0.8em; letter-spacing: 1px\">\n",
       "        <textPath xlink:href=\"#arrow-d1e8721027a34ef5b8d90df1eb5135dd-0-0\" class=\"displacy-label\" startOffset=\"50%\" side=\"left\" fill=\"currentColor\" text-anchor=\"middle\">det</textPath>\n",
       "    </text>\n",
       "    <path class=\"displacy-arrowhead\" d=\"M70,266.5 L62,254.5 78,254.5\" fill=\"currentColor\"/>\n",
       "</g>\n",
       "\n",
       "<g class=\"displacy-arrow\">\n",
       "    <path class=\"displacy-arc\" id=\"arrow-d1e8721027a34ef5b8d90df1eb5135dd-0-1\" stroke-width=\"2px\" d=\"M245,264.5 C245,89.5 570.0,89.5 570.0,264.5\" fill=\"none\" stroke=\"currentColor\"/>\n",
       "    <text dy=\"1.25em\" style=\"font-size: 0.8em; letter-spacing: 1px\">\n",
       "        <textPath xlink:href=\"#arrow-d1e8721027a34ef5b8d90df1eb5135dd-0-1\" class=\"displacy-label\" startOffset=\"50%\" side=\"left\" fill=\"currentColor\" text-anchor=\"middle\">amod</textPath>\n",
       "    </text>\n",
       "    <path class=\"displacy-arrowhead\" d=\"M245,266.5 L237,254.5 253,254.5\" fill=\"currentColor\"/>\n",
       "</g>\n",
       "\n",
       "<g class=\"displacy-arrow\">\n",
       "    <path class=\"displacy-arc\" id=\"arrow-d1e8721027a34ef5b8d90df1eb5135dd-0-2\" stroke-width=\"2px\" d=\"M420,264.5 C420,177.0 565.0,177.0 565.0,264.5\" fill=\"none\" stroke=\"currentColor\"/>\n",
       "    <text dy=\"1.25em\" style=\"font-size: 0.8em; letter-spacing: 1px\">\n",
       "        <textPath xlink:href=\"#arrow-d1e8721027a34ef5b8d90df1eb5135dd-0-2\" class=\"displacy-label\" startOffset=\"50%\" side=\"left\" fill=\"currentColor\" text-anchor=\"middle\">amod</textPath>\n",
       "    </text>\n",
       "    <path class=\"displacy-arrowhead\" d=\"M420,266.5 L412,254.5 428,254.5\" fill=\"currentColor\"/>\n",
       "</g>\n",
       "\n",
       "<g class=\"displacy-arrow\">\n",
       "    <path class=\"displacy-arc\" id=\"arrow-d1e8721027a34ef5b8d90df1eb5135dd-0-3\" stroke-width=\"2px\" d=\"M595,264.5 C595,177.0 740.0,177.0 740.0,264.5\" fill=\"none\" stroke=\"currentColor\"/>\n",
       "    <text dy=\"1.25em\" style=\"font-size: 0.8em; letter-spacing: 1px\">\n",
       "        <textPath xlink:href=\"#arrow-d1e8721027a34ef5b8d90df1eb5135dd-0-3\" class=\"displacy-label\" startOffset=\"50%\" side=\"left\" fill=\"currentColor\" text-anchor=\"middle\">nsubj</textPath>\n",
       "    </text>\n",
       "    <path class=\"displacy-arrowhead\" d=\"M595,266.5 L587,254.5 603,254.5\" fill=\"currentColor\"/>\n",
       "</g>\n",
       "\n",
       "<g class=\"displacy-arrow\">\n",
       "    <path class=\"displacy-arc\" id=\"arrow-d1e8721027a34ef5b8d90df1eb5135dd-0-4\" stroke-width=\"2px\" d=\"M770,264.5 C770,177.0 915.0,177.0 915.0,264.5\" fill=\"none\" stroke=\"currentColor\"/>\n",
       "    <text dy=\"1.25em\" style=\"font-size: 0.8em; letter-spacing: 1px\">\n",
       "        <textPath xlink:href=\"#arrow-d1e8721027a34ef5b8d90df1eb5135dd-0-4\" class=\"displacy-label\" startOffset=\"50%\" side=\"left\" fill=\"currentColor\" text-anchor=\"middle\">prep</textPath>\n",
       "    </text>\n",
       "    <path class=\"displacy-arrowhead\" d=\"M915.0,266.5 L923.0,254.5 907.0,254.5\" fill=\"currentColor\"/>\n",
       "</g>\n",
       "\n",
       "<g class=\"displacy-arrow\">\n",
       "    <path class=\"displacy-arc\" id=\"arrow-d1e8721027a34ef5b8d90df1eb5135dd-0-5\" stroke-width=\"2px\" d=\"M1120,264.5 C1120,89.5 1445.0,89.5 1445.0,264.5\" fill=\"none\" stroke=\"currentColor\"/>\n",
       "    <text dy=\"1.25em\" style=\"font-size: 0.8em; letter-spacing: 1px\">\n",
       "        <textPath xlink:href=\"#arrow-d1e8721027a34ef5b8d90df1eb5135dd-0-5\" class=\"displacy-label\" startOffset=\"50%\" side=\"left\" fill=\"currentColor\" text-anchor=\"middle\">det</textPath>\n",
       "    </text>\n",
       "    <path class=\"displacy-arrowhead\" d=\"M1120,266.5 L1112,254.5 1128,254.5\" fill=\"currentColor\"/>\n",
       "</g>\n",
       "\n",
       "<g class=\"displacy-arrow\">\n",
       "    <path class=\"displacy-arc\" id=\"arrow-d1e8721027a34ef5b8d90df1eb5135dd-0-6\" stroke-width=\"2px\" d=\"M1295,264.5 C1295,177.0 1440.0,177.0 1440.0,264.5\" fill=\"none\" stroke=\"currentColor\"/>\n",
       "    <text dy=\"1.25em\" style=\"font-size: 0.8em; letter-spacing: 1px\">\n",
       "        <textPath xlink:href=\"#arrow-d1e8721027a34ef5b8d90df1eb5135dd-0-6\" class=\"displacy-label\" startOffset=\"50%\" side=\"left\" fill=\"currentColor\" text-anchor=\"middle\">amod</textPath>\n",
       "    </text>\n",
       "    <path class=\"displacy-arrowhead\" d=\"M1295,266.5 L1287,254.5 1303,254.5\" fill=\"currentColor\"/>\n",
       "</g>\n",
       "\n",
       "<g class=\"displacy-arrow\">\n",
       "    <path class=\"displacy-arc\" id=\"arrow-d1e8721027a34ef5b8d90df1eb5135dd-0-7\" stroke-width=\"2px\" d=\"M945,264.5 C945,2.0 1450.0,2.0 1450.0,264.5\" fill=\"none\" stroke=\"currentColor\"/>\n",
       "    <text dy=\"1.25em\" style=\"font-size: 0.8em; letter-spacing: 1px\">\n",
       "        <textPath xlink:href=\"#arrow-d1e8721027a34ef5b8d90df1eb5135dd-0-7\" class=\"displacy-label\" startOffset=\"50%\" side=\"left\" fill=\"currentColor\" text-anchor=\"middle\">pobj</textPath>\n",
       "    </text>\n",
       "    <path class=\"displacy-arrowhead\" d=\"M1450.0,266.5 L1458.0,254.5 1442.0,254.5\" fill=\"currentColor\"/>\n",
       "</g>\n",
       "</svg></span>"
      ],
      "text/plain": [
       "<IPython.core.display.HTML object>"
      ]
     },
     "metadata": {},
     "output_type": "display_data"
    }
   ],
   "source": [
    "import spacy\n",
    "spacy_nlp = spacy.load('en_core_web_sm')\n",
    "\n",
    "# sentence = \"The objective of the assignment is to learn how to work with dependency graphs by defining functions.\"\n",
    "# sentence = \"Pierre Vinken, 61 years old, will join the board as a nonexecutive director Nov. 29.\"\n",
    "# sentence = \"bright red apples on the tree\"\n",
    "# sentence = \"Autonomous cars shift insurance liability toward manufacturers\"\n",
    "# sentence = \"The teacher gave the class some homework.\"\n",
    "# sentence = \"Sue passed Ann the ball.\"\n",
    "# sentence = \"I saw the man.\"\n",
    "sentence = \"The quick brown fox jumps over the lazy dog.\"\n",
    "\n",
    "#display the dep graph\n",
    "doc1 = spacy_nlp(sentence)\n",
    "spacy.displacy.render(doc1, style='dep')"
   ]
  },
  {
   "cell_type": "markdown",
   "id": "541075b8-7659-41c7-b569-d7967ea50a80",
   "metadata": {},
   "source": [
    "## First point\n",
    "\n",
    "- extract a path of dependency relations from the ROOT to a token\n",
    "    - input is a sentence, you parse it and get a Doc object of spaCy\n",
    "    - for each token the path will be a list of dependency relations, where first element is ROOT"
   ]
  },
  {
   "cell_type": "markdown",
   "id": "65071087-69f1-4128-b819-5bf7f448080f",
   "metadata": {},
   "source": [
    "In this point my idea was to split the problem in two function:\n",
    "- the first function __pathDep(token)__ return the path from the root to the token as a normal graph visiting. The __input__ is a *spaCy token* and the __output__ is a *list* with inside the touple *(dependecy_of_the_node, text_of_the_node)*\n",
    "- the second function __printPathDep(sent)__ print all the paths of all the tokens inside the sentence. As __input__ a *string* representing the sentence"
   ]
  },
  {
   "cell_type": "code",
   "execution_count": 2,
   "id": "224f4007-36e9-41e7-80eb-944bf09307dc",
   "metadata": {},
   "outputs": [
    {
     "name": "stdout",
     "output_type": "stream",
     "text": [
      "[('ROOT', 'jumps'), ('nsubj', 'fox'), ('det', 'The')]\n",
      "[('ROOT', 'jumps'), ('nsubj', 'fox'), ('amod', 'quick')]\n",
      "[('ROOT', 'jumps'), ('nsubj', 'fox'), ('amod', 'brown')]\n",
      "[('ROOT', 'jumps'), ('nsubj', 'fox')]\n",
      "[('ROOT', 'jumps')]\n",
      "[('ROOT', 'jumps'), ('prep', 'over')]\n",
      "[('ROOT', 'jumps'), ('prep', 'over'), ('pobj', 'dog'), ('det', 'the')]\n",
      "[('ROOT', 'jumps'), ('prep', 'over'), ('pobj', 'dog'), ('amod', 'lazy')]\n",
      "[('ROOT', 'jumps'), ('prep', 'over'), ('pobj', 'dog')]\n",
      "[('ROOT', 'jumps'), ('punct', '.')]\n"
     ]
    }
   ],
   "source": [
    "# visit as a normal graph visiting\n",
    "def pathDep(token):\n",
    "    S = []\n",
    "    path = []\n",
    "    S.append(token)\n",
    "    while len(S) > 0:\n",
    "        node = S.pop(0)\n",
    "        path.append((node.dep_, node.text))\n",
    "        if node.dep_ != \"ROOT\":\n",
    "            S.append(node.head)\n",
    "    return list(reversed(path))\n",
    "\n",
    "def printPathDep(sent):\n",
    "    doc = spacy_nlp(sent)\n",
    "    path = []\n",
    "    for token in doc:\n",
    "        path = pathDep(token)\n",
    "        print(path)\n",
    "\n",
    "printPathDep(sentence)"
   ]
  },
  {
   "cell_type": "markdown",
   "id": "abb74d64-d902-4c2a-8b70-e652f0890bf6",
   "metadata": {},
   "source": [
    "## Second point\n",
    "\n",
    "- extract subtree of a dependents given a token\n",
    "    - input is a sentence, you parse it and get a Doc object of spaCy\n",
    "    - for each token in Doc objects you extract a subtree of its dependents as a list (ordered w.r.t. sentence order)"
   ]
  },
  {
   "cell_type": "markdown",
   "id": "130cc6f1-ba9b-4d4d-8f1e-ac8b0952c5a2",
   "metadata": {},
   "source": [
    "Also in this point I decided to split the problem in two function, so that they can be used in the other points:\n",
    "- the first function __subTreeDep(token)__ wants a sapCy token as input an return the list representing the subtree of the token (iterating over the token.subtree)\n",
    "- the sencond function __printSubTreeDep(sent)__ recieve as input a sentence and print all the subtree of the tokens inside"
   ]
  },
  {
   "cell_type": "code",
   "execution_count": 3,
   "id": "afbcc3a4-b3f7-402f-9ba6-ed42be851b9d",
   "metadata": {},
   "outputs": [
    {
     "name": "stdout",
     "output_type": "stream",
     "text": [
      "[The]\n",
      "[quick]\n",
      "[brown]\n",
      "[The, quick, brown, fox]\n",
      "[The, quick, brown, fox, jumps, over, the, lazy, dog, .]\n",
      "[over, the, lazy, dog]\n",
      "[the]\n",
      "[lazy]\n",
      "[the, lazy, dog]\n",
      "[.]\n"
     ]
    }
   ],
   "source": [
    "def subTreeDep(token):\n",
    "    tree = []\n",
    "    for sub in token.subtree:\n",
    "        tree.append(sub)\n",
    "    return tree\n",
    "\n",
    "def printSubTreeDep(sent):\n",
    "    doc = spacy_nlp(sent)\n",
    "    for token in doc:\n",
    "        path = subTreeDep(token)\n",
    "        print(path)\n",
    "\n",
    "printSubTreeDep(sentence)"
   ]
  },
  {
   "cell_type": "markdown",
   "id": "1f953901-c887-40ab-94fa-a6f101bbf61d",
   "metadata": {},
   "source": [
    "## Third point\n",
    "\n",
    "- check if a given list of tokens (segment of a sentence) forms a subtree\n",
    "    - you parse a sentence and get a Doc object of spaCy\n",
    "    - providing as an input ordered list of words from a sentence, you output True/False based on the sequence forming a subtree or not"
   ]
  },
  {
   "cell_type": "markdown",
   "id": "c1c87d09-c3d6-4db2-af1e-83b4a4117b32",
   "metadata": {},
   "source": [
    "In the third point the function __chekSubTree(sent, tokenList)__ get as input the *string* of the sentence to parse, and the *list* of tokens to check if they are contained in a subtree of the sentence. This function reuse *subTreeDep* to retreive the subtree of each token to then compare it with the passed token list. It returns a *Boolean* as __output__.\n",
    "\n",
    "For testing I create a list of word from a sentence and then convert it in a sorted list of tokens."
   ]
  },
  {
   "cell_type": "code",
   "execution_count": 4,
   "id": "809892f6-4e0e-4323-8b41-32f675cec707",
   "metadata": {},
   "outputs": [],
   "source": [
    "# Pre-create a list of word from a sentence\n",
    "tmp = \"61 years old\"\n",
    "tokens = spacy_nlp(tmp)\n",
    "listTokens = []\n",
    "for t in tokens:\n",
    "    listTokens.append(str(t))\n",
    "listTokens.sort()"
   ]
  },
  {
   "cell_type": "code",
   "execution_count": 5,
   "id": "bea36449-9476-41c1-b968-0768c8108ddf",
   "metadata": {},
   "outputs": [
    {
     "name": "stdout",
     "output_type": "stream",
     "text": [
      "Check if forms a subtree: False\n"
     ]
    }
   ],
   "source": [
    "def checkSubTree(sent, tokenlist):\n",
    "    doc = spacy_nlp(sent)\n",
    "    for token in doc:\n",
    "        path = subTreeDep(token)\n",
    "        pathString = sorted([str(t) for t in path])\n",
    "        if pathString == tokenlist:\n",
    "            return True\n",
    "    return False\n",
    "\n",
    "print(\"Check if forms a subtree: {}\".format(checkSubTree(sentence, listTokens)))"
   ]
  },
  {
   "cell_type": "markdown",
   "id": "d38adce5-f781-4a40-a3ca-6e655fc30063",
   "metadata": {},
   "source": [
    "## Fourth point\n",
    "\n",
    "- identify head of a span, given its tokens\n",
    "    - input is a sequence of words (not necessarily a sentence)\n",
    "    - output is the head of the span (single word)"
   ]
  },
  {
   "cell_type": "markdown",
   "id": "ed2bf6b0-c6b2-44b9-a649-68914be00265",
   "metadata": {},
   "source": [
    "Here my doubts was if the input of the function can be a normal *string* or a sliced spaCy document, for this reason I develop:\n",
    "\n",
    "- __headSpan(span)__ recieve as __input__ a slice of a spaCy document and return the root by accessing directly to the span propriety\n",
    "\n",
    "- __headSpanString(span)__ recieve as __input__ a *string* of list of word and then convert it do a spaCy document for the computing of the root"
   ]
  },
  {
   "cell_type": "code",
   "execution_count": 6,
   "id": "009b3347-a8f9-4627-9365-41a39164a823",
   "metadata": {},
   "outputs": [
    {
     "name": "stdout",
     "output_type": "stream",
     "text": [
      "Span: insurance liability toward\n",
      "Head of span: liability\n"
     ]
    }
   ],
   "source": [
    "doc = spacy_nlp(\"Autonomous cars shift insurance liability toward manufacturers.\")\n",
    "def headSpan(span):\n",
    "    return span.root.text\n",
    "\n",
    "span = doc[3:6]\n",
    "print(\"Span: {}\".format(span))\n",
    "print(\"Head of span: {}\".format(headSpan(span)))"
   ]
  },
  {
   "cell_type": "code",
   "execution_count": 7,
   "id": "9f6b5e00-e952-4760-8053-7698b551a115",
   "metadata": {},
   "outputs": [
    {
     "name": "stdout",
     "output_type": "stream",
     "text": [
      "Head of span: liability\n"
     ]
    }
   ],
   "source": [
    "def headSpanString(span):\n",
    "    doc = spacy_nlp(span)\n",
    "    return doc[0:len(doc)].root.text\n",
    "\n",
    "print(\"Head of span: {}\".format(headSpanString(\"insurance liability toward\")))"
   ]
  },
  {
   "cell_type": "markdown",
   "id": "90ed8952-36f7-44b0-9387-e29657d9ae8d",
   "metadata": {},
   "source": [
    "## Fifth point\n",
    "\n",
    "- extract sentence subject, direct object and indirect object spans\n",
    "    - input is a sentence, you parse it and get a Doc object of spaCy\n",
    "    - output is lists of words that form a span (not a single word) for subject, direct object, and indirect object (if present of course, otherwise empty)\n",
    "        - dict of lists, is better"
   ]
  },
  {
   "cell_type": "markdown",
   "id": "0cdd3ff8-50c0-4ba4-abe0-28076d6fac05",
   "metadata": {},
   "source": [
    "This function __extractDep(sent)__ recieve in input a *string* of the sentece, convert it as a spaCy doc and returns a *dictionary* containg all the span object for the *subject*, *indirect object* and *direct object* by iterating in its subtree. After iterating the subtree I decided to convert it into a span object and save it in the dictionary.\n",
    "During some test and looking at the dependency graph the best way to \"detect\" the idirect object was to use the word *dative* instead of *iobj*. For example, for the sentence \"Sue passed Ann the ball.\", the indirected object Ann is detected by the dative keyword."
   ]
  },
  {
   "cell_type": "code",
   "execution_count": 8,
   "id": "75571289-be44-42e6-a53e-70d2f5e3b8ce",
   "metadata": {},
   "outputs": [
    {
     "name": "stdout",
     "output_type": "stream",
     "text": [
      "{'nsubj': The quick brown fox, 'iobj': None, 'dobj': None}\n"
     ]
    }
   ],
   "source": [
    "def extractDep(sent):\n",
    "    doc = spacy_nlp(sent)\n",
    "    dic = {}\n",
    "    dic[\"nsubj\"] = None\n",
    "    dic[\"iobj\"] = None\n",
    "    dic[\"dobj\"] = None\n",
    "    s = []\n",
    "    i = []\n",
    "    do = []\n",
    "    \n",
    "    for token in doc:\n",
    "        \n",
    "        if token.dep_ == \"nsubj\":\n",
    "            for d in token.subtree:\n",
    "                    s.append(d.i)\n",
    "            span = doc[s[0]:s[len(s)-1]+1]\n",
    "            dic[\"nsubj\"] = span\n",
    "            \n",
    "        if token.dep_ == \"dative\":\n",
    "            for d in token.subtree:\n",
    "                    i.append(d.i)\n",
    "            span = doc[i[0]:i[len(i)-1]+1]\n",
    "            dic[\"iobj\"] = span\n",
    "            \n",
    "        if token.dep_ == \"dobj\":\n",
    "            for d in token.subtree:\n",
    "                    do.append(d.i)\n",
    "            span = doc[do[0]:do[len(do)-1]+1]\n",
    "            dic[\"dobj\"] = span\n",
    "            \n",
    "    return dic\n",
    "\n",
    "print(extractDep(sentence))"
   ]
  }
 ],
 "metadata": {
  "kernelspec": {
   "display_name": "native39",
   "language": "python",
   "name": "native39"
  },
  "language_info": {
   "codemirror_mode": {
    "name": "ipython",
    "version": 3
   },
   "file_extension": ".py",
   "mimetype": "text/x-python",
   "name": "python",
   "nbconvert_exporter": "python",
   "pygments_lexer": "ipython3",
   "version": "3.9.2"
  }
 },
 "nbformat": 4,
 "nbformat_minor": 5
}
